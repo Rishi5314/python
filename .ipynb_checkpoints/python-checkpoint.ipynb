{
 "cells": [
  {
   "cell_type": "code",
   "execution_count": 1,
   "id": "09811a87",
   "metadata": {},
   "outputs": [
    {
     "name": "stdout",
     "output_type": "stream",
     "text": [
      "40353607\n"
     ]
    }
   ],
   "source": [
    "print(7**9)"
   ]
  },
  {
   "cell_type": "code",
   "execution_count": 3,
   "id": "0a46e2e7",
   "metadata": {},
   "outputs": [
    {
     "name": "stdout",
     "output_type": "stream",
     "text": [
      "False\n",
      "True\n",
      "False\n",
      "True\n",
      "63\n"
     ]
    }
   ],
   "source": [
    "x=3033\n",
    "y=333\n",
    "print(x==y)\n",
    "print(x<y)\n",
    "print(x>y)\n",
    "print(x!=y)\n",
    "print(x+y)"
   ]
  },
  {
   "cell_type": "code",
   "execution_count": 5,
   "id": "f1ce396f",
   "metadata": {},
   "outputs": [
    {
     "name": "stdout",
     "output_type": "stream",
     "text": [
      "True\n"
     ]
    }
   ],
   "source": [
    "list=[39,33,49,20,12]\n",
    "print('49' not in list)"
   ]
  },
  {
   "cell_type": "code",
   "execution_count": 15,
   "id": "89c8c17b",
   "metadata": {},
   "outputs": [
    {
     "name": "stdout",
     "output_type": "stream",
     "text": [
      "Rishi Raj tripathi\n",
      "Shubham tripathi\n",
      "Riya tripathi\n",
      "krishna tripathi\n"
     ]
    }
   ],
   "source": [
    "def surname(add):\n",
    "    print(add +\" tripathi\")\n",
    "surname(\"Rishi Raj\")\n",
    "surname(\"Shubham\")\n",
    "surname(\"Riya\")\n",
    "surname(\"krishna\")"
   ]
  },
  {
   "cell_type": "code",
   "execution_count": 2,
   "id": "39de68b0",
   "metadata": {},
   "outputs": [
    {
     "name": "stdout",
     "output_type": "stream",
     "text": [
      "('appe', 'maongo', 'icecream')\n"
     ]
    }
   ],
   "source": [
    "thistuple=(\"appe\",\"maongo\",\"icecream\")\n",
    "print(thistuple)"
   ]
  },
  {
   "cell_type": "code",
   "execution_count": 4,
   "id": "53815699",
   "metadata": {},
   "outputs": [
    {
     "name": "stdout",
     "output_type": "stream",
     "text": [
      "singh\n"
     ]
    }
   ],
   "source": [
    "thistuple=(\"rishi\",\"raj\",\"singh\",\"bhati\")\n",
    "print(thistuple[2])"
   ]
  },
  {
   "cell_type": "code",
   "execution_count": 7,
   "id": "1e4d56c7",
   "metadata": {},
   "outputs": [
    {
     "name": "stdout",
     "output_type": "stream",
     "text": [
      "('rishi', 'raj', 'singh')\n"
     ]
    }
   ],
   "source": [
    "hello=(\"rishi\",\"raj\",\"singh\",\"bhati\")\n",
    "print(hello[0:3])"
   ]
  },
  {
   "cell_type": "code",
   "execution_count": 11,
   "id": "fcd21645",
   "metadata": {},
   "outputs": [
    {
     "name": "stdout",
     "output_type": "stream",
     "text": [
      "**\n",
      "***\n",
      "****\n",
      "*****\n",
      "******\n"
     ]
    }
   ],
   "source": [
    "def addition(add):\n",
    "    print(add *\"*\")\n",
    "addition(2)\n",
    "addition(3)\n",
    "addition(4)\n",
    "addition(5)\n",
    "addition(6)"
   ]
  },
  {
   "cell_type": "code",
   "execution_count": 26,
   "id": "851cec20",
   "metadata": {},
   "outputs": [
    {
     "name": "stdout",
     "output_type": "stream",
     "text": [
      "      Series_reference   Period  Data_value Suppressed STATUS   UNITS  \\\n",
      "0          BDCQ.SEA1AA  2011.06     80078.0        NaN      F  Number   \n",
      "1          BDCQ.SEA1AA  2011.09     78324.0        NaN      F  Number   \n",
      "2          BDCQ.SEA1AA  2011.12     85850.0        NaN      F  Number   \n",
      "3          BDCQ.SEA1AA  2012.03     90743.0        NaN      F  Number   \n",
      "4          BDCQ.SEA1AA  2012.06     81780.0        NaN      F  Number   \n",
      "...                ...      ...         ...        ...    ...     ...   \n",
      "21797    BDCQ.SEE3999A  2017.06         NaN          Y      C  Number   \n",
      "21798    BDCQ.SEE3999A  2017.09         NaN          Y      C  Number   \n",
      "21799    BDCQ.SEE3999A  2017.12         NaN          Y      C  Number   \n",
      "21800    BDCQ.SEE3999A  2018.03         NaN          Y      C  Number   \n",
      "21801    BDCQ.SEE3999A  2018.06         NaN          Y      C  Number   \n",
      "\n",
      "       Magnitude                         Subject  \\\n",
      "0              0  Business Data Collection - BDC   \n",
      "1              0  Business Data Collection - BDC   \n",
      "2              0  Business Data Collection - BDC   \n",
      "3              0  Business Data Collection - BDC   \n",
      "4              0  Business Data Collection - BDC   \n",
      "...          ...                             ...   \n",
      "21797          0  Business Data Collection - BDC   \n",
      "21798          0  Business Data Collection - BDC   \n",
      "21799          0  Business Data Collection - BDC   \n",
      "21800          0  Business Data Collection - BDC   \n",
      "21801          0  Business Data Collection - BDC   \n",
      "\n",
      "                                              Group  \\\n",
      "0                   Industry by employment variable   \n",
      "1                   Industry by employment variable   \n",
      "2                   Industry by employment variable   \n",
      "3                   Industry by employment variable   \n",
      "4                   Industry by employment variable   \n",
      "...                                             ...   \n",
      "21797  Territorial authority by employment variable   \n",
      "21798  Territorial authority by employment variable   \n",
      "21799  Territorial authority by employment variable   \n",
      "21800  Territorial authority by employment variable   \n",
      "21801  Territorial authority by employment variable   \n",
      "\n",
      "                               Series_title_1  \\\n",
      "0                                 Filled jobs   \n",
      "1                                 Filled jobs   \n",
      "2                                 Filled jobs   \n",
      "3                                 Filled jobs   \n",
      "4                                 Filled jobs   \n",
      "...                                       ...   \n",
      "21797  Filled jobs (workplace location based)   \n",
      "21798  Filled jobs (workplace location based)   \n",
      "21799  Filled jobs (workplace location based)   \n",
      "21800  Filled jobs (workplace location based)   \n",
      "21801  Filled jobs (workplace location based)   \n",
      "\n",
      "                           Series_title_2 Series_title_3  Series_title_4  \\\n",
      "0       Agriculture, Forestry and Fishing         Actual             NaN   \n",
      "1       Agriculture, Forestry and Fishing         Actual             NaN   \n",
      "2       Agriculture, Forestry and Fishing         Actual             NaN   \n",
      "3       Agriculture, Forestry and Fishing         Actual             NaN   \n",
      "4       Agriculture, Forestry and Fishing         Actual             NaN   \n",
      "...                                   ...            ...             ...   \n",
      "21797  Area Outside Territorial Authority         Actual             NaN   \n",
      "21798  Area Outside Territorial Authority         Actual             NaN   \n",
      "21799  Area Outside Territorial Authority         Actual             NaN   \n",
      "21800  Area Outside Territorial Authority         Actual             NaN   \n",
      "21801  Area Outside Territorial Authority         Actual             NaN   \n",
      "\n",
      "       Series_title_5  \n",
      "0                 NaN  \n",
      "1                 NaN  \n",
      "2                 NaN  \n",
      "3                 NaN  \n",
      "4                 NaN  \n",
      "...               ...  \n",
      "21797             NaN  \n",
      "21798             NaN  \n",
      "21799             NaN  \n",
      "21800             NaN  \n",
      "21801             NaN  \n",
      "\n",
      "[21802 rows x 14 columns]\n"
     ]
    },
    {
     "ename": "AttributeError",
     "evalue": "module 'pandas' has no attribute 'sort_values'",
     "output_type": "error",
     "traceback": [
      "\u001b[1;31m---------------------------------------------------------------------------\u001b[0m",
      "\u001b[1;31mAttributeError\u001b[0m                            Traceback (most recent call last)",
      "Cell \u001b[1;32mIn[26], line 5\u001b[0m\n\u001b[0;32m      2\u001b[0m data\u001b[38;5;241m=\u001b[39msort\u001b[38;5;241m.\u001b[39mread_csv(\u001b[38;5;124m\"\u001b[39m\u001b[38;5;124mC:\u001b[39m\u001b[38;5;124m\\\u001b[39m\u001b[38;5;124mcsv\u001b[39m\u001b[38;5;124m\\\u001b[39m\u001b[38;5;124miv.csv\u001b[39m\u001b[38;5;124m\"\u001b[39m)\n\u001b[0;32m      4\u001b[0m \u001b[38;5;28mprint\u001b[39m(data)\n\u001b[1;32m----> 5\u001b[0m df \u001b[38;5;241m=\u001b[39m sort\u001b[38;5;241m.\u001b[39msort_values(data)\n",
      "File \u001b[1;32m~\\anaconda3\\Lib\\site-packages\\pandas\\__init__.py:264\u001b[0m, in \u001b[0;36m__getattr__\u001b[1;34m(name)\u001b[0m\n\u001b[0;32m    260\u001b[0m     \u001b[38;5;28;01mfrom\u001b[39;00m \u001b[38;5;21;01mpandas\u001b[39;00m\u001b[38;5;21;01m.\u001b[39;00m\u001b[38;5;21;01mcore\u001b[39;00m\u001b[38;5;21;01m.\u001b[39;00m\u001b[38;5;21;01marrays\u001b[39;00m\u001b[38;5;21;01m.\u001b[39;00m\u001b[38;5;21;01msparse\u001b[39;00m \u001b[38;5;28;01mimport\u001b[39;00m SparseArray \u001b[38;5;28;01mas\u001b[39;00m _SparseArray\n\u001b[0;32m    262\u001b[0m     \u001b[38;5;28;01mreturn\u001b[39;00m _SparseArray\n\u001b[1;32m--> 264\u001b[0m \u001b[38;5;28;01mraise\u001b[39;00m \u001b[38;5;167;01mAttributeError\u001b[39;00m(\u001b[38;5;124mf\u001b[39m\u001b[38;5;124m\"\u001b[39m\u001b[38;5;124mmodule \u001b[39m\u001b[38;5;124m'\u001b[39m\u001b[38;5;124mpandas\u001b[39m\u001b[38;5;124m'\u001b[39m\u001b[38;5;124m has no attribute \u001b[39m\u001b[38;5;124m'\u001b[39m\u001b[38;5;132;01m{\u001b[39;00mname\u001b[38;5;132;01m}\u001b[39;00m\u001b[38;5;124m'\u001b[39m\u001b[38;5;124m\"\u001b[39m)\n",
      "\u001b[1;31mAttributeError\u001b[0m: module 'pandas' has no attribute 'sort_values'"
     ]
    }
   ],
   "source": [
    "import pandas as sort\n",
    "data=sort.read_csv(\"C:\\csv\\iv.csv\")\n",
    "\n",
    "print(data)\n",
    "df = sort.sort_values(data)"
   ]
  },
  {
   "cell_type": "code",
   "execution_count": 21,
   "id": "8e02363b",
   "metadata": {},
   "outputs": [
    {
     "name": "stdout",
     "output_type": "stream",
     "text": [
      "        Name  marks\n",
      "0  Rishi raj      1\n",
      "1       riya      2\n",
      "2      Shyam      3\n"
     ]
    }
   ],
   "source": [
    "import pandas as pd\n",
    "data = {\n",
    "    \"Name\": [\"Rishi raj\", \"riya\",\"Shyam\"],\n",
    "    \"marks\": [1, 2, 3]\n",
    "}\n",
    "myvar = pd.DataFrame(data)\n",
    "print(myvar)"
   ]
  },
  {
   "cell_type": "code",
   "execution_count": null,
   "id": "2ee1279b",
   "metadata": {},
   "outputs": [],
   "source": []
  },
  {
   "cell_type": "code",
   "execution_count": null,
   "id": "b9b3015e",
   "metadata": {},
   "outputs": [],
   "source": []
  }
 ],
 "metadata": {
  "kernelspec": {
   "display_name": "Python 3 (ipykernel)",
   "language": "python",
   "name": "python3"
  },
  "language_info": {
   "codemirror_mode": {
    "name": "ipython",
    "version": 3
   },
   "file_extension": ".py",
   "mimetype": "text/x-python",
   "name": "python",
   "nbconvert_exporter": "python",
   "pygments_lexer": "ipython3",
   "version": "3.11.4"
  }
 },
 "nbformat": 4,
 "nbformat_minor": 5
}
