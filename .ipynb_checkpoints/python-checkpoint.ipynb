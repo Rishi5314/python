{
 "cells": [
  {
   "cell_type": "code",
   "execution_count": 1,
   "id": "09811a87",
   "metadata": {},
   "outputs": [
    {
     "name": "stdout",
     "output_type": "stream",
     "text": [
      "40353607\n"
     ]
    }
   ],
   "source": [
    "print(7**9)"
   ]
  },
  {
   "cell_type": "code",
   "execution_count": 3,
   "id": "0a46e2e7",
   "metadata": {},
   "outputs": [
    {
     "name": "stdout",
     "output_type": "stream",
     "text": [
      "False\n",
      "True\n",
      "False\n",
      "True\n",
      "63\n"
     ]
    }
   ],
   "source": [
    "x=3033\n",
    "y=333\n",
    "print(x==y)\n",
    "print(x<y)\n",
    "print(x>y)\n",
    "print(x!=y)\n",
    "print(x+y)"
   ]
  },
  {
   "cell_type": "code",
   "execution_count": 5,
   "id": "f1ce396f",
   "metadata": {},
   "outputs": [
    {
     "name": "stdout",
     "output_type": "stream",
     "text": [
      "True\n"
     ]
    }
   ],
   "source": [
    "list=[39,33,49,20,12]\n",
    "print('49' not in list)"
   ]
  },
  {
   "cell_type": "code",
   "execution_count": 15,
   "id": "89c8c17b",
   "metadata": {},
   "outputs": [
    {
     "name": "stdout",
     "output_type": "stream",
     "text": [
      "Rishi Raj tripathi\n",
      "Shubham tripathi\n",
      "Riya tripathi\n",
      "krishna tripathi\n"
     ]
    }
   ],
   "source": [
    "def surname(add):\n",
    "    print(add +\" tripathi\")\n",
    "surname(\"Rishi Raj\")\n",
    "surname(\"Shubham\")\n",
    "surname(\"Riya\")\n",
    "surname(\"krishna\")"
   ]
  },
  {
   "cell_type": "code",
   "execution_count": 2,
   "id": "39de68b0",
   "metadata": {},
   "outputs": [
    {
     "name": "stdout",
     "output_type": "stream",
     "text": [
      "('appe', 'maongo', 'icecream')\n"
     ]
    }
   ],
   "source": [
    "thistuple=(\"appe\",\"maongo\",\"icecream\")\n",
    "print(thistuple)"
   ]
  },
  {
   "cell_type": "code",
   "execution_count": 4,
   "id": "53815699",
   "metadata": {},
   "outputs": [
    {
     "name": "stdout",
     "output_type": "stream",
     "text": [
      "singh\n"
     ]
    }
   ],
   "source": [
    "thistuple=(\"rishi\",\"raj\",\"singh\",\"bhati\")\n",
    "print(thistuple[2])"
   ]
  },
  {
   "cell_type": "code",
   "execution_count": 7,
   "id": "1e4d56c7",
   "metadata": {},
   "outputs": [
    {
     "name": "stdout",
     "output_type": "stream",
     "text": [
      "('rishi', 'raj', 'singh')\n"
     ]
    }
   ],
   "source": [
    "hello=(\"rishi\",\"raj\",\"singh\",\"bhati\")\n",
    "print(hello[0:3])"
   ]
  },
  {
   "cell_type": "code",
   "execution_count": 11,
   "id": "fcd21645",
   "metadata": {},
   "outputs": [
    {
     "name": "stdout",
     "output_type": "stream",
     "text": [
      "**\n",
      "***\n",
      "****\n",
      "*****\n",
      "******\n"
     ]
    }
   ],
   "source": [
    "def addition(add):\n",
    "    print(add *\"*\")\n",
    "addition(2)\n",
    "addition(3)\n",
    "addition(4)\n",
    "addition(5)\n",
    "addition(6)"
   ]
  },
  {
   "cell_type": "code",
   "execution_count": 21,
   "id": "8e02363b",
   "metadata": {},
   "outputs": [
    {
     "name": "stdout",
     "output_type": "stream",
     "text": [
      "        Name  marks\n",
      "0  Rishi raj      1\n",
      "1       riya      2\n",
      "2      Shyam      3\n"
     ]
    }
   ],
   "source": [
    "import pandas as pd\n",
    "data = {\n",
    "    \"Name\": [\"Rishi raj\", \"riya\",\"Shyam\"],\n",
    "    \"marks\": [1, 2, 3]\n",
    "}\n",
    "myvar = pd.DataFrame(data)\n",
    "print(myvar)"
   ]
  },
  {
   "cell_type": "code",
   "execution_count": null,
   "id": "2ee1279b",
   "metadata": {},
   "outputs": [],
   "source": []
  },
  {
   "cell_type": "code",
   "execution_count": null,
   "id": "b9b3015e",
   "metadata": {},
   "outputs": [],
   "source": []
  }
 ],
 "metadata": {
  "kernelspec": {
   "display_name": "Python 3 (ipykernel)",
   "language": "python",
   "name": "python3"
  },
  "language_info": {
   "codemirror_mode": {
    "name": "ipython",
    "version": 3
   },
   "file_extension": ".py",
   "mimetype": "text/x-python",
   "name": "python",
   "nbconvert_exporter": "python",
   "pygments_lexer": "ipython3",
   "version": "3.11.4"
  }
 },
 "nbformat": 4,
 "nbformat_minor": 5
}
